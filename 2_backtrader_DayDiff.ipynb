{
 "cells": [
  {
   "cell_type": "markdown",
   "id": "c86ee4ae",
   "metadata": {},
   "source": [
    "### 偽回測：計算每日震幅，做為資料標示Tag用，最大最小分類，分合併盤、日盤、夜盤\n",
    "目前是產生每日的走勢圖片供策略開發\n",
    "但是圖片我處理的很不好，有更好的方法歡迎分享\n",
    "backtrader官網 https://www.backtrader.com/docu/quickstart/quickstart/"
   ]
  },
  {
   "cell_type": "code",
   "execution_count": null,
   "id": "7fbde3ca",
   "metadata": {},
   "outputs": [],
   "source": [
    "from __future__ import (absolute_import, division, print_function, unicode_literals)\n",
    "\n",
    "# 匯入backtrader模組\n",
    "import backtrader as bt\n",
    "import pandas as pd\n",
    "import matplotlib\n",
    "import matplotlib.pyplot as plt\n",
    "import datetime as dt\n",
    "import sqlite3\n",
    "import datetime\n",
    "\n",
    "dbName = input('kbar資料庫路徑:')\n"
   ]
  },
  {
   "cell_type": "code",
   "execution_count": null,
   "id": "ee9010be",
   "metadata": {},
   "outputs": [],
   "source": [
    "#從資料庫載入資料\n",
    "def load_data(contractName, thisdate):\n",
    "    start_date = pd.to_datetime(thisdate)\n",
    "    end_date = start_date + pd.Timedelta(days=1)\n",
    "\n",
    "    # include the time in the date string\n",
    "    startday = f'\"{start_date.strftime(\"%Y-%m-%d\")} 08:45:00\"'\n",
    "    endday = f'\"{end_date.strftime(\"%Y-%m-%d\")} 05:00:00\"'\n",
    "\n",
    "    dbName = r\"C:\\Users\\kevin\\Desktop\\機器人理財\\robot\\data\\kbars.db\"\n",
    "    \n",
    "    with sqlite3.connect(dbName) as conn:\n",
    "        query = (f'SELECT \"ts\" as datetime, \"Volume\" as volume, \"Close\" as close, '\n",
    "             f'\"Open\" as open, \"High\" as high, \"Low\" as low '\n",
    "             f'FROM {contractName} '\n",
    "             f'WHERE \"ts\" >= {startday} AND \"ts\" <= {endday}')\n",
    "\n",
    "    df = pd.read_sql_query(query, conn, parse_dates=['datetime'])\n",
    "\n",
    "    return df"
   ]
  },
  {
   "cell_type": "markdown",
   "id": "4148b242",
   "metadata": {},
   "source": [
    "## 回測策略(偽策略)"
   ]
  },
  {
   "cell_type": "code",
   "execution_count": null,
   "id": "6e2298b6",
   "metadata": {},
   "outputs": [],
   "source": [
    "class MaxMinMarked(bt.Strategy):\n",
    "    params = (\n",
    "        ('pmode',1),\n",
    "        ('maxDay', 1),\n",
    "        ('minDay', 5)\n",
    "    )\n",
    "\n",
    "    def __init__(self):        \n",
    "        self.dataclose = self.datas[0].close\n",
    "        self.ordered = 0\n",
    "\n",
    "    def next(self):\n",
    "        #偽策略，已經知道當日最高最低點，直接下定價單\n",
    "        if self.ordered == 0:            \n",
    "            self.buy(exectype=bt.Order.Limit, price=self.params.minDay)\n",
    "            self.sell(exectype=bt.Order.Limit, price=self.params.maxDay)\n",
    "            self.ordered = 1\n",
    "    \n",
    "    def log(self, txt, dt=None):\n",
    "        dt = dt or self.datas[0].datetime.datetime(0)\n",
    "        if (self.p.pmode == 1):\n",
    "            print('%s, %s' % (dt.strftime(\"%Y-%m-%d %H:%M:%S\"), txt))\n",
    "\n",
    "\n",
    "    #訂單狀態改變時發出的通知\n",
    "    def notify_order(self, order):\n",
    "        if order.status in [order.Completed]:\n",
    "            if order.isbuy():\n",
    "                self.log('BUY EXECUTED, %.2f' % order.executed.price)\n",
    "            elif order.issell():\n",
    "                self.log('SELL EXECUTED, %.2f' % order.executed.price)\n",
    "\n",
    "    #交易狀態改變時發出的通知（「買->賣」或「賣->買」完成，即為一個交易）\n",
    "    def notify_trade(self, trade):\n",
    "        if not trade.isclosed:\n",
    "            return\n",
    "        self.log('OPERATION PROFIT, GROSS %.2f, NET %.2f' % (trade.pnl, trade.pnlcomm))\n",
    "                            \n",
    "                            \n",
    "    #模擬終止前的動作:print出結果\n",
    "    def stop(self):\n",
    "        final_portfolio_value = self.broker.getvalue()\n",
    "        initial_cash = self.broker.startingcash\n",
    "        self.profit = round(final_portfolio_value - initial_cash)\n",
    "        print(f'Profit: {self.profit}')"
   ]
  },
  {
   "cell_type": "code",
   "execution_count": null,
   "id": "6c68867a",
   "metadata": {},
   "outputs": [],
   "source": [
    "#在圖上畫出買入賣出，我是透過chatgpt問的，做得不好，還需要更熟悉畫圖模組，如果有好的方法請推薦\n",
    "class PositionSize(bt.Observer):\n",
    "    lines = ('Buy', 'Sell')\n",
    "    \n",
    "    plotinfo = dict(plot=True, subplot=True)\n",
    "    plotlines = dict(\n",
    "        position_size_positive=dict(_plotskip='True', marker='o', markersize=2.0, color='blue', fillstyle='full'),\n",
    "        position_size_negative=dict(_plotskip='True', marker='o', markersize=2.0, color='red', fillstyle='full')\n",
    "    )\n",
    "    \n",
    "    def next(self):\n",
    "        position_size = self._owner.position.size\n",
    "        if position_size >= 0:\n",
    "            self.lines.Buy[0] = position_size\n",
    "            self.lines.Sell[0] = 0\n",
    "        else:\n",
    "            self.lines.Buy[0] = 0\n",
    "            self.lines.Sell[0] = position_size\n"
   ]
  },
  {
   "cell_type": "markdown",
   "id": "15a42ffd",
   "metadata": {},
   "source": [
    "## 函數：用來跑回測\n",
    "因為目標是當日冲，每天分開跑回測"
   ]
  },
  {
   "cell_type": "code",
   "execution_count": null,
   "id": "3725488f",
   "metadata": {},
   "outputs": [],
   "source": [
    "def run_cerebro(contractName, date_range, act_val):\n",
    "    results = pd.DataFrame()\n",
    "\n",
    "    for date in date_range:\n",
    "        weekday = date.weekday()\n",
    "        print(f'Starting 周{weekday+1}: {date.date()} {contractName}')\n",
    "\n",
    "        #下載資料  \n",
    "        df = load_data(contractName, date)\n",
    "\n",
    "        if df.empty:\n",
    "            print(f\"*****{date.strftime('%w_%Y-%m-%d')} DataFrame is empty\")\n",
    "            \n",
    "        else:\n",
    "            #宣告回測\n",
    "            cerebro = bt.Cerebro(stdstats=False)\n",
    "\n",
    "            df.set_index('datetime', inplace=True)\n",
    "            df['datetime'] = df.index\n",
    "            \n",
    "            # 在DataFrame中進行時間分割\n",
    "            day_session = df.between_time('08:45', '13:45')\n",
    "            night_session = df.between_time('15:00', '05:00')\n",
    "\n",
    "            # 根據 act_val 選擇對應的數據\n",
    "            if act_val == \"Day\":\n",
    "                df = day_session\n",
    "            elif act_val == \"Night\":\n",
    "                df = night_session\n",
    "                \n",
    "            # 计算最大值、最小值和方向\n",
    "            max_val = df['high'].max()\n",
    "            min_val = df['low'].min()\n",
    "            dir_val = 1 if df['low'].idxmin() < df['high'].idxmax() else -1\n",
    "            diff_abs = abs(max_val - min_val)\n",
    "            diff_str = \"{:04d}\".format(int(diff_abs))\n",
    "            \n",
    "            #添加策略\n",
    "            cerebro.addstrategy(\n",
    "                MaxMinMarked, \n",
    "                maxDay=max_val,\n",
    "                minDay=min_val\n",
    "            )\n",
    "            \n",
    "            #添加observer\n",
    "            cerebro.addobserver(PositionSize)\n",
    "            cerebro.addobserver(bt.observers.Value)\n",
    "            cerebro.addobserver(bt.observers.BuySell, barplot=True, bardist=0.0001)\n",
    "\n",
    "            #資料餵入回測\n",
    "            data = bt.feeds.PandasData(dataname=df, open='open', high='high', low='low', close='close', volume='volume', datetime='datetime', timeframe=bt.TimeFrame.Minutes)\n",
    "            cerebro.adddata(data)\n",
    "\n",
    "            cerebro.broker.setcash(100000.0)\n",
    "            #小台的設法\n",
    "            cerebro.broker.setcommission(commission=34, margin=46000.0, mult=50.0, commtype=bt.CommInfoBase.COMM_FIXED)\n",
    "            cerebro.addsizer(bt.sizers.FixedSize, stake=1)\n",
    "\n",
    "            print(f'Starting {dir_val}: {date.date()}')\n",
    "\n",
    "            res = cerebro.run()\n",
    "\n",
    "            print(f'Profit: {res[0].profit}')\n",
    "            profit = res[0].profit\n",
    "\n",
    "            results.at[date.strftime('%Y-%m-%d'), 'profit'] = diff_str\n",
    "\n",
    "            #因為跑的時候就是會秀出圖片，非常耗記憶體，放到py檔又要一個一個關，無法自動跑，這個需要調整\n",
    "            figures = cerebro.plot(plotter=MyPlot(),style='line',plotlinelabels=False, barup='red', bardown='green', figkwargs=dict(figsize=(16, 9)), subplot=True, plotdist=0.0001)\n",
    "            #figures = cerebro.plot(style='line',plotlinelabels=False, barup='red', bardown='green', figkwargs=dict(figsize=(16, 9)), subplot=True, plotdist=0.0001)\n",
    "            save_figures(figures, date, diff_str, act_val)\n",
    "\n",
    "    return results"
   ]
  },
  {
   "cell_type": "markdown",
   "id": "a29192c8",
   "metadata": {},
   "source": [
    "#### 批量畫圖處理(處理得不好)"
   ]
  },
  {
   "cell_type": "code",
   "execution_count": null,
   "id": "e5a61728",
   "metadata": {},
   "outputs": [],
   "source": [
    "#遮掉畫圖用的\n",
    "from backtrader import plot\n",
    "class MyPlot(plot.Plot):\n",
    "    def show(self):\n",
    "        pass  # 覆盖show方法，不执行任何操作，因此不会显示图像"
   ]
  },
  {
   "cell_type": "code",
   "execution_count": null,
   "id": "238ef985",
   "metadata": {},
   "outputs": [],
   "source": [
    "#v你可能在 Jupyter Notebook 中运行代码，而 Jupyter Notebook 有自己的图形大小设置。\n",
    "#你可以使用 %matplotlib inline 魔法命令，并在其后设置图形大小，如下所示：\n",
    "%matplotlib inline\n",
    "import matplotlib.pyplot as plt\n",
    "plt.rcParams[\"figure.figsize\"] = (10, 6)"
   ]
  },
  {
   "cell_type": "markdown",
   "id": "696ae93e",
   "metadata": {},
   "source": [
    "### 存圖片(重點)\n",
    "#### 圖片目錄要先建  .\\pic\\AllDay  .\\pic\\Day .\\pic\\Night\n",
    "#### 圖片X軸要有時間刻度\n",
    "要修改 \\Lib\\site-packages\\backtrader\\plot.py\n",
    "我的是262行 \n",
    "```python\n",
    "for ax in laxis:\n",
    "    self.mpyplot.setp(ax.get_xticklabels(), visible=True)\n",
    "```\n",
    "##### 印象要重開\n",
    "https://community.backtrader.com/topic/3113/date-axis-does-not-show-up-on-plot/2"
   ]
  },
  {
   "cell_type": "code",
   "execution_count": null,
   "id": "affb9540",
   "metadata": {},
   "outputs": [],
   "source": [
    "def save_figures(figures, date, profit, act_val):\n",
    "    plt.ioff()\n",
    "    \n",
    "    for i, fig in enumerate(figures[0]):\n",
    "        ax0 = fig.get_axes()[0]\n",
    "\n",
    "        fig.autofmt_xdate()\n",
    "        fig.tight_layout()\n",
    "        \n",
    "        file_name = f\".\\pic\\{act_val}\\{profit}_{date.strftime('%w_%Y-%m-%d')}.PNG\"\n",
    "        print(file_name)\n",
    "        fig.savefig(file_name, dpi=300)\n",
    "\n",
    "        # 關閉當前處理的圖像\n",
    "        plt.close(fig)\n"
   ]
  },
  {
   "cell_type": "markdown",
   "id": "205622a7",
   "metadata": {},
   "source": [
    "## 主程式"
   ]
  },
  {
   "cell_type": "code",
   "execution_count": null,
   "id": "6048e25e",
   "metadata": {},
   "outputs": [],
   "source": [
    "if __name__ == '__main__':\n",
    "    date_range = pd.date_range(start='2023-07-17', end='2023-7-23')\n",
    "    contractName='TXFR1'\n",
    "    \n",
    "    #分別產生 合併盤、日盤、夜盤\n",
    "    allDay_results = run_cerebro(contractName, date_range, \"AllDay\")\n",
    "    day_results = run_cerebro(contractName, date_range, \"Day\")\n",
    "    night_results = run_cerebro(contractName, date_range, \"Night\")\n",
    "\n",
    "    # 將結果合併到一個 DataFrame\n",
    "    results_df = pd.concat([allDay_results, day_results, night_results], axis=1, keys=[\"AllDay\", \"Day\", \"Night\"])\n",
    "\n",
    "    # 儲存結果\n",
    "    results_df.to_csv('backtest_results.csv')"
   ]
  },
  {
   "cell_type": "markdown",
   "id": "939b7e32",
   "metadata": {},
   "source": [
    "### 工具：輸出PY檔"
   ]
  },
  {
   "cell_type": "code",
   "execution_count": null,
   "id": "1156612a",
   "metadata": {},
   "outputs": [],
   "source": [
    "with open('class.py', 'w', encoding='UTF-8') as f:\n",
    "    for i in range(1, 9):\n",
    "        f.write(In[i] + '\\n')"
   ]
  }
 ],
 "metadata": {
  "kernelspec": {
   "display_name": "robot",
   "language": "python",
   "name": "robot"
  },
  "language_info": {
   "codemirror_mode": {
    "name": "ipython",
    "version": 3
   },
   "file_extension": ".py",
   "mimetype": "text/x-python",
   "name": "python",
   "nbconvert_exporter": "python",
   "pygments_lexer": "ipython3",
   "version": "3.8.8"
  }
 },
 "nbformat": 4,
 "nbformat_minor": 5
}
