{
 "cells": [
  {
   "cell_type": "markdown",
   "id": "c37595bc",
   "metadata": {},
   "source": [
    "# 讀入台指期資料到Sqlite DB"
   ]
  },
  {
   "cell_type": "markdown",
   "id": "5d69ab86",
   "metadata": {},
   "source": [
    "##  1 永豐金證券Api\n",
    "\n",
    "申請永豐金證券帳號及API帳號 https://www.sinotrade.com.tw/ec/20191125/Main/index.aspx\n",
    "\n",
    "### 登入 shioaji"
   ]
  },
  {
   "cell_type": "code",
   "execution_count": null,
   "id": "efc5d79c",
   "metadata": {
    "scrolled": true
   },
   "outputs": [],
   "source": [
    "import shioaji as sj\n",
    "\n",
    "#登入帳戶   #透入輸入取得\n",
    "api_key=input(\"api_key:\")\n",
    "secret_key=input(\"secret_key:\")\n",
    "\n",
    "# 登入帳戶  \n",
    "# api = sj.Shioaji()\n",
    "api = sj.Shioaji(simulation=True) # 模擬模式\n",
    "api.login(\n",
    "    api_key,secret_key\n",
    ")"
   ]
  },
  {
   "cell_type": "markdown",
   "id": "dfb28f87",
   "metadata": {},
   "source": [
    "### 登出shioaji"
   ]
  },
  {
   "cell_type": "code",
   "execution_count": null,
   "id": "81b14f8f",
   "metadata": {},
   "outputs": [],
   "source": [
    "#不再下載資料時，再執行\n",
    "#api.logout()"
   ]
  },
  {
   "cell_type": "markdown",
   "id": "ad9c9807",
   "metadata": {},
   "source": [
    "## 2. 下載標的(contract)"
   ]
  },
  {
   "cell_type": "code",
   "execution_count": 2,
   "id": "00d82e39",
   "metadata": {},
   "outputs": [
    {
     "name": "stdout",
     "output_type": "stream",
     "text": [
      "code='TXFR1' symbol='TXFR1' name='臺股期貨近月' category='TXF' delivery_month='202308' delivery_date='2023/08/16' underlying_kind='I' unit=1 limit_up=18537.0 limit_down=15167.0 reference=16852.0 update_date='2023/08/09' target_code='TXFH3'\n",
      "code='MXFR1' symbol='MXFR1' name='小型臺指近月' category='MXF' delivery_month='202308' delivery_date='2023/08/16' underlying_kind='I' unit=1 limit_up=18537.0 limit_down=15167.0 reference=16852.0 update_date='2023/08/09' target_code='MXFH3'\n"
     ]
    }
   ],
   "source": [
    "print(api.Contracts.Futures[\"TXFR1\"]) \n",
    "print(api.Contracts.Futures[\"MXFR1\"])"
   ]
  },
  {
   "cell_type": "markdown",
   "id": "a1591818",
   "metadata": {},
   "source": [
    "###  函數：呼叫 shioaji api取得kbar"
   ]
  },
  {
   "cell_type": "code",
   "execution_count": null,
   "id": "f0638e4f",
   "metadata": {},
   "outputs": [],
   "source": [
    "import sqlite3\n",
    "import pandas as pd\n",
    "from time import sleep\n",
    "import datetime   # 新增這行\n",
    "\n",
    "##API相關\n",
    "def get_kbar(api, contract, start, end, timeout=100000):\n",
    "    if timeout > 0:\n",
    "        print(f'kbars = api.kbars({contract}, start={start}, end={end}, timeout={timeout})')\n",
    "        kbars = api.kbars(contract, start=start, end=end, timeout=timeout)\n",
    "    else:\n",
    "        print(f'kbars = api.kbars({contract}, start={start}, end={end})')\n",
    "        kbars = api.kbars(contract, start=start, end=end)\n",
    "\n",
    "    df = pd.DataFrame({**kbars}) \n",
    "    df.index = pd.to_datetime(df.ts)\n",
    "    df = df.drop(columns=\"ts\")\n",
    "    df.drop(df.tail(1).index, inplace=True)\n",
    "    \n",
    "    sleep(10)\n",
    "    return df"
   ]
  },
  {
   "cell_type": "markdown",
   "id": "26eceee8",
   "metadata": {},
   "source": [
    "### 函數：判斷資料庫的資料日期，並決定api需要取得的日期區間"
   ]
  },
  {
   "cell_type": "code",
   "execution_count": null,
   "id": "840eaf1e",
   "metadata": {},
   "outputs": [],
   "source": [
    "from datetime import date\n",
    "from datetime import timedelta\n",
    "\n",
    "def backFillKbars(api, contractObj, contractName, start_date=None):\n",
    "    today = date.today()\n",
    "    \n",
    "    # 如果沒有提供開始日期，就默認為兩年前\n",
    "    if start_date is None:\n",
    "        start_date = today - timedelta(days=2*365)\n",
    "    print(f'目標處理日期: {start_date} - {today}')\n",
    "    \n",
    "    #開始讀取資料庫現有資料    \n",
    "    dbName = input(\"你的DB路徑加檔名:\")\n",
    "    print(dbName)\n",
    "    \n",
    "    tablename = contractName\n",
    "    conn = sqlite3.connect(dbName)\n",
    "    #如果沒有就建立\n",
    "    sql = \"\"\"CREATE TABLE IF NOT EXISTS {}(\n",
    "    \"ts\" timestamp,\n",
    "    \"Volume\" integer,\n",
    "    \"Close\" real,\n",
    "    \"Amount\" real,\n",
    "    \"Open\" real,\n",
    "    \"High\" real,\n",
    "    \"Low\" real)\"\"\".format(tablename)\n",
    "    conn.execute(sql)\n",
    "    \n",
    "    kbars_ori = pd.read_sql(\"SELECT * FROM {}\".format(tablename), conn, parse_dates=[\"ts\"], index_col=[\"ts\"])\n",
    "\n",
    "    if kbars_ori.empty:  # 資料庫中無任何資料\n",
    "        start = start_date\n",
    "        end = today\n",
    "        print(f'資料庫中無任何資料: 目標{start} - {end}')\n",
    "        if start <= end:\n",
    "            kbars = get_kbar(api, contractObj, start=str(start), end=str(end))\n",
    "            kbars_ori = pd.concat([kbars_ori, kbars])\n",
    "            print(f'取得: {start} - {end}')\n",
    "        \n",
    "    else:\n",
    "        first_date = kbars_ori.index.min().strftime(\"%Y-%m-%d\") #大Y\n",
    "        last_date = kbars_ori.index.max().strftime(\"%Y-%m-%d\")\n",
    "        print(f'資料庫中日期: {first_date} - {last_date}')\n",
    "        \n",
    "        if datetime.strptime(first_date, \"%Y-%m-%d\").date() <= start_date:  # 資料庫中最早的日期不晚於開始日期\n",
    "            start = datetime.strptime(last_date, \"%Y-%m-%d\").date() +  timedelta(1)\n",
    "            end = today\n",
    "            print(f'最早的日期不晚於開始日期: {start} - {end}')\n",
    "            if start <= end:\n",
    "                kbars = get_kbar(api, contractObj, start=str(start), end=str(end))\n",
    "                kbars_ori = pd.concat([kbars_ori, kbars])\n",
    "                print(f'取得: {start} - {end}')\n",
    "                \n",
    "        else:  # 資料庫中最早的日期晚於開始日期\n",
    "            # 兩段日期區間，一段是開始日期至最早的日期前一天，一段是最後的日期後一天至今天\n",
    "            start1 = start_date\n",
    "            end1 = datetime.strptime(first_date, \"%Y-%m-%d\").date() -  timedelta(1)\n",
    "            start2 = datetime.strptime(last_date, \"%Y-%m-%d\").date() + timedelta(1)\n",
    "            \n",
    "            end2 = today\n",
    "            print(f'開始日期早於已有資料: {start1} - {end1} | {start2} - {end2}')\n",
    "\n",
    "            if start1 <= end1:\n",
    "                kbars1 = get_kbar(api, contractObj, start=str(start1), end=str(end1))\n",
    "                kbars_ori = pd.concat([kbars_ori, kbars1])\n",
    "                print(f'取得1: {start1} - {end1} ')\n",
    "\n",
    "            if start2 <= end2:\n",
    "                kbars2 = get_kbar(api, contractObj, start=str(start2), end=str(end2))\n",
    "                kbars_ori = pd.concat([kbars_ori, kbars2])\n",
    "                print(f'取得2: {start2} - {end2}')\n",
    "\n",
    "    final_kbars = (\n",
    "        kbars_ori.reset_index()\n",
    "        .drop_duplicates(subset=[\"ts\"], keep=\"last\")\n",
    "        .set_index([\"ts\"])\n",
    "        .sort_index()\n",
    "    )\n",
    "    final_kbars.to_sql(tablename, conn, if_exists=\"replace\")\n",
    "    conn.close()\n"
   ]
  },
  {
   "cell_type": "markdown",
   "id": "b64f5fc1",
   "metadata": {},
   "source": [
    "#### 主程式"
   ]
  },
  {
   "cell_type": "code",
   "execution_count": null,
   "id": "fae30ac6",
   "metadata": {},
   "outputs": [],
   "source": [
    "from datetime import datetime\n",
    "\n",
    "#主程式 addstrategy\n",
    "if __name__ == '__main__':\n",
    "\n",
    "    start_date = datetime.strptime('2023-07-01', '%Y-%m-%d').date()\n",
    "\n",
    "    # 更新期貨\n",
    "    future_list = [\"TXFR1\",\"MXFR1\"] #台指近月    \n",
    "\n",
    "    # kbars\n",
    "    for future in future_list:\n",
    "        print(f'== {future} start ==')\n",
    "        contract = api.Contracts.Futures[future]\n",
    "     \n",
    "        backFillKbars(api=api,contractObj=contract,contractName=future, start_date=start_date) \n",
    "        print(f'== {future} end ==')\n",
    "\n",
    "    print(f'== Process end ==')"
   ]
  },
  {
   "cell_type": "markdown",
   "id": "fcf719c8",
   "metadata": {},
   "source": [
    "### 工具：檢查kbar資料庫的日期"
   ]
  },
  {
   "cell_type": "code",
   "execution_count": null,
   "id": "d3f47cc6",
   "metadata": {},
   "outputs": [],
   "source": [
    " # 如果没有提供开始日期，就默认为两年前\n",
    "from datetime import date\n",
    "from datetime import timedelta\n",
    "import sqlite3\n",
    "import pandas as pd\n",
    "from time import sleep\n",
    "import datetime   # 新增這行\n",
    "\n",
    "def checkTsRange(dbname, tablename):\n",
    "    conn = sqlite3.connect(dbname)\n",
    "    df = pd.read_sql('SELECT * FROM \"{}\"'.format(tablename), conn, parse_dates=[\"ts\"])\n",
    "    conn.close()\n",
    "\n",
    "    if df.empty:\n",
    "        # 如果表为空，返回None\n",
    "        return None, None\n",
    "\n",
    "    first_date = df[\"ts\"].min().strftime(\"%Y-%m-%d\")\n",
    "    last_date = df[\"ts\"].max().strftime(\"%Y-%m-%d\")\n",
    "    \n",
    "    return first_date, last_date\n",
    "\n",
    "\n",
    "# 假设one_month_ago是一个预先定义的值，代表从一年前的日期\n",
    "dbName = input(\"你的DB路徑加檔名:\")\n",
    "tablename = \"MXFR1\" # 小台指近月\n",
    "\n",
    "first_day, last_day = checkTsRange(dbname=dbName, tablename=tablename)\n",
    "print(f'kbars {tablename}: {first_day} 至 {last_day}')\n",
    "\n",
    "tablename = \"TXFR1\" # 小台指近月\n",
    "\n",
    "first_day, last_day = checkTsRange(dbname=dbName, tablename=tablename)\n",
    "print(f'kbars {tablename}: {first_day} 至 {last_day}')"
   ]
  }
 ],
 "metadata": {
  "kernelspec": {
   "display_name": "robot",
   "language": "python",
   "name": "robot"
  },
  "language_info": {
   "codemirror_mode": {
    "name": "ipython",
    "version": 3
   },
   "file_extension": ".py",
   "mimetype": "text/x-python",
   "name": "python",
   "nbconvert_exporter": "python",
   "pygments_lexer": "ipython3",
   "version": "3.8.8"
  }
 },
 "nbformat": 4,
 "nbformat_minor": 5
}
